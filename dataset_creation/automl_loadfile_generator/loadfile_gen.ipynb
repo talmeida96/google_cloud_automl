{
 "cells": [
  {
   "cell_type": "markdown",
   "metadata": {},
   "source": [
    "# Gerador de Datasets (Múltiplas ROIs)"
   ]
  },
  {
   "cell_type": "markdown",
   "metadata": {},
   "source": [
    "### 1. IMPORTAÇÃO DAS BIBLIOTECAS UTILIZADAS\n",
    "\n",
    "- **CV2**: Biblioteca OpenCV para manipulação de imagem e vídeo.\n",
    "- **OS**: Biblioteca padrão do Python para operações de sistema operacional.\n",
    "- **THREADING**: Gerencia threads e permite a captura periódica de imagens sem bloquear a interface.\n",
    "- **TIME**: Biblioteca para manipulações de tempo.\n",
    "- **TKINTER**: Biblioteca para interface gráfica de usuário (GUIs).\n",
    "- **PIL**: Biblioteca Pillow para manipulação de imagem.\n",
    "- **RANDOM**: Biblioteca para gerar números aleatórios.\n",
    "- **CSV**: Biblioteca para ler e escrever arquivos no formato CSV."
   ]
  },
  {
   "cell_type": "code",
   "execution_count": 1,
   "metadata": {},
   "outputs": [],
   "source": [
    "import cv2                              # biblioteca OpenCV para manipulação de imagens e vídeo\n",
    "import os                               # biblioteca padrão do Python para operações de sistema operacional\n",
    "import threading                        # gerencia threads e permite a captura periódica de imagens sem bloquear a interface\n",
    "import time                             # biblioteca para manipulações de tempo\n",
    "import tkinter as tk                    # biblioteca para interface gráfica de usuário (GUIs)\n",
    "from tkinter import filedialog, ttk     # módulos do Tkinter\n",
    "from PIL import Image, ImageTk          # biblioteca Pillow para manipulação de imagens\n",
    "import random                           # biblioteca para gerar númeras aleatórios\n",
    "import csv                              # biblioteca para manuseio de arquivos .csv"
   ]
  },
  {
   "cell_type": "markdown",
   "metadata": {},
   "source": [
    "### 2. VARIÁVEIS GLOBAIS DE CONTROLE\n",
    "\n",
    "- **capturing**: Indica se a captura periódica de imagens está ativa.\n",
    "- **capture_thread**: Thread que executa a função de captura periódica.\n",
    "- **save_directory**: Diretório de armazenamento das imagens.\n",
    "- **file_name**: Nome do arquivo CSV onde as informações das ROIs serão salvas.\n",
    "- **gcs_path**: Caminho de armazenamento no Cloud Storage.\n",
    "- **img_width, img_height**: Largura e altura da imagem capturada.\n",
    "- **init_time**: Tempo de referência para a captura periódica.\n",
    "- **init_positions**: Posições iniciais das ROIs.\n",
    "- **img_counter**: Contador de imagens capturadas."
   ]
  },
  {
   "cell_type": "code",
   "execution_count": 3,
   "metadata": {},
   "outputs": [],
   "source": [
    "capturing = False                                   # booleano que indica se a captura periódica de imagens está ativa ou não\n",
    "capture_thread = None                               # thread que executa a função captura_periodica\n",
    "save_directory = \"\"                                 # diretório de armazenamento das imagens\n",
    "file_name = \"load_file.csv\"                         # nome do arquivo de carga a ser gerado\n",
    "gcs_path = \"gs://t0_thayna_main/load_teste/\"        # caminho de armazenamento no Cloud Storage\n",
    "img_width = 640                                     # largura da imagem capturada\n",
    "img_height = 480                                    # altura da imagem capturada\n",
    "init_time = 0                                       # tempo de referência para a captura periódica\n",
    "init_positions = []                                 # posições das regiões de interesse\n",
    "img_counter = 0                                     # contador de imagens"
   ]
  },
  {
   "cell_type": "markdown",
   "metadata": {},
   "source": [
    "### 3. INICIALIZAÇÃO DA CÂMERA\n",
    "\n",
    "Inicializa a câmera e retorna uma mensagem caso haja algum problema.\n",
    "> 0 = webcam integrada do notebook |\n",
    "> 1 = webcams ou câmeras externas"
   ]
  },
  {
   "cell_type": "code",
   "execution_count": 5,
   "metadata": {},
   "outputs": [],
   "source": [
    "cap = cv2.VideoCapture(0)\n",
    "if not cap.isOpened():\n",
    "    print(\"Erro ao abrir a câmera\")\n",
    "    exit()"
   ]
  },
  {
   "cell_type": "markdown",
   "metadata": {},
   "source": [
    "## 4. Funções"
   ]
  },
  {
   "cell_type": "markdown",
   "metadata": {},
   "source": [
    "### 4.1. capturar_imagem()\n",
    "Captura e salva a imagem atual, e escreve as informações das ROIs em um arquivo CSV."
   ]
  },
  {
   "cell_type": "code",
   "execution_count": 6,
   "metadata": {},
   "outputs": [],
   "source": [
    "def capturar_imagem():\n",
    "    global img_counter, frame\n",
    "    \n",
    "    if save_directory:\n",
    "        img_name = f\"img_{int(time.time())}.jpg\"\n",
    "        file_path = os.path.join(save_directory, img_name)\n",
    "        cv2.imwrite(file_path, frame)\n",
    "        img_counter += 1\n",
    "        update_image_count_label()\n",
    "\n",
    "    with open(file_name, mode='a', newline='') as file:\n",
    "        writer = csv.writer(file)\n",
    "        \n",
    "        for i, (roi_x, roi_y, roi_width, roi_height, label_entry) in enumerate(init_positions):\n",
    "            roi_width = min(roi_width, img_width - roi_x)\n",
    "            roi_height = min(roi_height, img_height - roi_y)\n",
    "\n",
    "            if roi_width > 0 and roi_height > 0:\n",
    "                x_min = roi_x\n",
    "                y_min = roi_y\n",
    "                x_max = roi_x + roi_width\n",
    "                y_max = roi_y + roi_height\n",
    "\n",
    "                # Normaliza as coordenadas\n",
    "                x_min_norm = x_min / img_width\n",
    "                y_min_norm = y_min / img_height\n",
    "                x_max_norm = x_max / img_width\n",
    "                y_max_norm = y_max / img_height\n",
    "\n",
    "                label = label_entry.get()\n",
    "                info = (\n",
    "                    f\"{gcs_path}{img_name},\"\n",
    "                    f\"{label},\"\n",
    "                    f\"{x_min_norm:.8f},{y_min_norm:.8f},\"\n",
    "                    f\"{x_max_norm:.8f},{y_min_norm:.8f},\"\n",
    "                    f\"{x_max_norm:.8f},{y_max_norm:.8f},\"\n",
    "                    f\"{x_min_norm:.8f},{y_max_norm:.8f}\"\n",
    "                )\n",
    "                # print(info)\n",
    "                writer.writerow([\n",
    "                    f\"{gcs_path}{img_name}\", label, \n",
    "                    f\"{x_min_norm:.8f}\", f\"{y_min_norm:.8f}\",\n",
    "                    f\"{x_max_norm:.8f}\", f\"{y_min_norm:.8f}\",\n",
    "                    f\"{x_max_norm:.8f}\", f\"{y_max_norm:.8f}\",\n",
    "                    f\"{x_min_norm:.8f}\", f\"{y_max_norm:.8f}\"\n",
    "                ])"
   ]
  },
  {
   "cell_type": "markdown",
   "metadata": {},
   "source": [
    "### 4.2. iniciar_captura()\n",
    "Inicia a captura de imagens em uma thread separada."
   ]
  },
  {
   "cell_type": "code",
   "execution_count": 7,
   "metadata": {},
   "outputs": [],
   "source": [
    "def iniciar_captura():\n",
    "    global capturing, capture_thread, init_time, init_positions\n",
    "    capturing = True\n",
    "    init_time = time.time()\n",
    "    init_positions = [(x.get(), y.get(), width.get(), height.get(), label) for _, label, x, y, width, height, _, _ in rois]\n",
    "    capture_thread = threading.Thread(target=captura_periodica)\n",
    "    capture_thread.start()"
   ]
  },
  {
   "cell_type": "markdown",
   "metadata": {},
   "source": [
    "## 4.3. parar_captura()\n",
    "Para a captura de imagens e aguarda a thread de captura finalizar."
   ]
  },
  {
   "cell_type": "code",
   "execution_count": 8,
   "metadata": {},
   "outputs": [],
   "source": [
    "def parar_captura():\n",
    "    global capturing, capture_thread\n",
    "    capturing = False\n",
    "    if capture_thread is not None:\n",
    "        capture_thread.join()"
   ]
  },
  {
   "cell_type": "markdown",
   "metadata": {},
   "source": [
    "## 4.4. captura_periodica()\n",
    "Captura imagens periodicamente e atualiza as posições das ROIs."
   ]
  },
  {
   "cell_type": "code",
   "execution_count": 9,
   "metadata": {},
   "outputs": [],
   "source": [
    "def captura_periodica():\n",
    "    global init_time\n",
    "    while capturing:\n",
    "        if time.time() - init_time > intervalo_slider.get():\n",
    "            max_variacao = variacao_slider.get()\n",
    "            for i, (initial_x, initial_y, roi_width, roi_height, _) in enumerate(init_positions):\n",
    "                new_x = initial_x + random.randint(-max_variacao, max_variacao)\n",
    "                new_y = initial_y + random.randint(-max_variacao, max_variacao)\n",
    "                new_x = max(0, min(new_x, img_width - roi_width))\n",
    "                new_y = max(0, min(new_y, img_height - roi_height))\n",
    "                rois[i][2].set(new_x)\n",
    "                rois[i][3].set(new_y)\n",
    "            init_time = time.time()\n",
    "        capturar_imagem()\n",
    "        time.sleep(intervalo_slider.get())"
   ]
  },
  {
   "cell_type": "markdown",
   "metadata": {},
   "source": [
    "## 4.5. selecionar_diretorio()\n",
    "Abre um diálogo para selecionar o diretório de salvamento das imagens."
   ]
  },
  {
   "cell_type": "code",
   "execution_count": 10,
   "metadata": {},
   "outputs": [],
   "source": [
    "def selecionar_diretorio():\n",
    "    global save_directory\n",
    "    save_directory = filedialog.askdirectory()\n",
    "    if save_directory:\n",
    "        print(f\"Diretório de armazenamento: {save_directory}\")"
   ]
  },
  {
   "cell_type": "markdown",
   "metadata": {},
   "source": [
    "## 4.6. atualizar_webcam()\n",
    "Atualiza a visualização da webcam com as ROIs desenhadas."
   ]
  },
  {
   "cell_type": "code",
   "execution_count": 12,
   "metadata": {},
   "outputs": [],
   "source": [
    "def atualizar_webcam():\n",
    "    global frame, img_width, img_height\n",
    "\n",
    "    ret, frame = cap.read()\n",
    "    if ret:\n",
    "        img_height, img_width, _ = frame.shape\n",
    "\n",
    "        frame_with_rois = frame.copy()\n",
    "        for _, _, x, y, width, height, _, _ in rois:\n",
    "            roi_x = x.get()\n",
    "            roi_y = y.get()\n",
    "            roi_width = width.get()\n",
    "            roi_height = height.get()\n",
    "            cv2.rectangle(frame_with_rois, (roi_x, roi_y), (roi_x + roi_width, roi_y + roi_height), (0, 255, 0), 2)\n",
    "\n",
    "        cv2image = cv2.cvtColor(frame_with_rois, cv2.COLOR_BGR2RGBA)\n",
    "        img = cv2.resize(cv2image, (640, 480))\n",
    "        img = Image.fromarray(img)\n",
    "        imgtk = ImageTk.PhotoImage(image=img)\n",
    "        webcam_label.imgtk = imgtk\n",
    "        webcam_label.configure(image=imgtk)\n",
    "\n",
    "    root.after(10, atualizar_webcam)"
   ]
  },
  {
   "cell_type": "markdown",
   "metadata": {},
   "source": [
    "## 4.7. adicionar_roi()\n",
    "Adiciona uma nova ROI ao painel de controle."
   ]
  },
  {
   "cell_type": "code",
   "execution_count": 13,
   "metadata": {},
   "outputs": [],
   "source": [
    "def adicionar_roi():\n",
    "    \n",
    "    row = len(rois) * 6  # Ajusta o espaçamento entre as ROIs\n",
    "\n",
    "    # Cria e posiciona os widgets da nova ROI\n",
    "    categoria_label = tk.Label(frame_direita_interior, text=f\"Categoria {len(rois) + 1}\", anchor=\"center\")\n",
    "    categoria_label.grid(row=row, column=0, columnspan=5, pady=5)\n",
    "\n",
    "    label_entry = tk.Entry(frame_direita_interior)\n",
    "    label_entry.grid(row=row + 1, column=1, columnspan=2, sticky=\"ew\")\n",
    "\n",
    "    x = tk.Scale(frame_direita_interior, from_=0, to=640, orient=\"horizontal\", resolution=1, label=f\"X{len(rois) + 1}\")\n",
    "    x.set(100)\n",
    "    x.grid(row=row + 2, column=0, padx=5, sticky=\"ew\")\n",
    "    \n",
    "    y = tk.Scale(frame_direita_interior, from_=0, to=480, orient=\"horizontal\", resolution=1, label=f\"Y{len(rois) + 1}\")\n",
    "    y.set(100)\n",
    "    y.grid(row=row + 2, column=1, padx=5, sticky=\"ew\")\n",
    "    \n",
    "    width = tk.Scale(frame_direita_interior, from_=1, to=640, orient=\"horizontal\", resolution=1, label=f\"Largura{len(rois) + 1}\")\n",
    "    width.set(224)\n",
    "    width.grid(row=row + 2, column=2, padx=5, sticky=\"ew\")\n",
    "    \n",
    "    height = tk.Scale(frame_direita_interior, from_=1, to=480, orient=\"horizontal\", resolution=1, label=f\"Altura{len(rois) + 1}\")\n",
    "    height.set(224)\n",
    "    height.grid(row=row + 2, column=3, padx=5, sticky=\"ew\")\n",
    "\n",
    "    btn_remove_roi = tk.Button(frame_direita_interior, text=\"Excluir ROI\", command=lambda idx=len(rois): remover_roi(idx))\n",
    "    btn_remove_roi.grid(row=row, column=4, rowspan=3, columnspan=3, padx=5, pady=5, sticky=\"ns\")\n",
    "\n",
    "    separator = ttk.Separator(frame_direita_interior, orient=\"horizontal\")\n",
    "    separator.grid(row=row + 3, column=0, columnspan=5, pady=5, sticky=\"ew\")\n",
    "    \n",
    "    rois.append((categoria_label, label_entry, x, y, width, height, btn_remove_roi, separator))\n",
    "\n",
    "    # Atualiza a barra de rolagem\n",
    "    frame_direita_interior.update_idletasks()\n",
    "    canvas.config(scrollregion=canvas.bbox(\"all\"))"
   ]
  },
  {
   "cell_type": "markdown",
   "metadata": {},
   "source": [
    "## 4.8. remover_roi(index)\n",
    "Remove uma ROI do painel de controle."
   ]
  },
  {
   "cell_type": "code",
   "execution_count": 14,
   "metadata": {},
   "outputs": [],
   "source": [
    "def remover_roi(index):\n",
    "    for widget in rois[index]:\n",
    "        widget.grid_forget()\n",
    "        widget.destroy()  # Destroi o widget após remover do grid\n",
    "    del rois[index]\n",
    "\n",
    "    # Reposiciona os widgets restantes\n",
    "    for i in range(index, len(rois)):\n",
    "        categoria_label, label_entry, x, y, width, height, btn_remove_roi, separator = rois[i]\n",
    "\n",
    "        row = i * 6\n",
    "\n",
    "        categoria_label.config(text=f\"Categoria {i + 1}\")\n",
    "        x.config(label=f\"X{i + 1}\")\n",
    "        y.config(label=f\"Y{i + 1}\")\n",
    "        width.config(label=f\"Largura{i + 1}\")\n",
    "        height.config(label=f\"Altura{i + 1}\")\n",
    "        btn_remove_roi.config(command=lambda idx=i: remover_roi(idx))\n",
    "\n",
    "        categoria_label.grid(row=row, column=0, columnspan=5, pady=5)\n",
    "        label_entry.grid(row=row + 1, column=1, columnspan=2, sticky=\"ew\")\n",
    "        x.grid(row=row + 2, column=0, padx=5, sticky=\"ew\")\n",
    "        y.grid(row=row + 2, column=1, padx=5, sticky=\"ew\")\n",
    "        width.grid(row=row + 2, column=2, padx=5, sticky=\"ew\")\n",
    "        height.grid(row=row + 2, column=3, padx=5, sticky=\"ew\")\n",
    "        btn_remove_roi.grid(row=row, column=4, rowspan=3, columnspan=3, padx=5, pady=5, sticky=\"ns\")\n",
    "        separator.grid(row=row + 3, column=0, columnspan=5, pady=5, sticky=\"ew\")\n",
    "\n",
    "    # Atualiza a barra de rolagem\n",
    "    frame_direita_interior.update_idletasks()\n",
    "    canvas.config(scrollregion=canvas.bbox(\"all\"))"
   ]
  },
  {
   "cell_type": "markdown",
   "metadata": {},
   "source": [
    "## 4.9. update_image_count_label()\n",
    "Atualiza o contador de imagens capturadas no rótulo."
   ]
  },
  {
   "cell_type": "code",
   "execution_count": 15,
   "metadata": {},
   "outputs": [],
   "source": [
    "def update_image_count_label():\n",
    "    image_count_label.config(text=f\"Imagens capturadas: {img_counter}\")"
   ]
  },
  {
   "cell_type": "markdown",
   "metadata": {},
   "source": [
    "## 5. Interface Gráfica"
   ]
  },
  {
   "cell_type": "code",
   "execution_count": 16,
   "metadata": {},
   "outputs": [
    {
     "data": {
      "text/plain": [
       "'1849243529408<lambda>'"
      ]
     },
     "execution_count": 16,
     "metadata": {},
     "output_type": "execute_result"
    }
   ],
   "source": [
    "# Configura a interface gráfica\n",
    "root = tk.Tk()\n",
    "root.geometry(\"1500x600\")\n",
    "root.title(\"Gerador de Datasets (Múltiplas ROIs)\")\n",
    "\n",
    "rois = []\n",
    "\n",
    "# Frame para controles principais\n",
    "frame_controles = tk.Frame(root)\n",
    "frame_controles.pack(fill=\"x\", padx=10, pady=10)\n",
    "frame_controles.columnconfigure([0, 1, 2, 3], weight=1)\n",
    "\n",
    "tk.Button(frame_controles, text=\"Selecionar Diretório\", command=selecionar_diretorio).grid(row=0, column=0, padx=5, pady=5)\n",
    "tk.Button(frame_controles, text=\"Start\", command=iniciar_captura).grid(row=0, column=1, padx=5, pady=5)\n",
    "tk.Button(frame_controles, text=\"Stop\", command=parar_captura).grid(row=0, column=2, padx=5, pady=5)\n",
    "tk.Button(frame_controles, text=\"Adicionar ROI\", command=adicionar_roi).grid(row=0, column=3, padx=5, pady=5)\n",
    "\n",
    "# Frame principal para a webcam e ROIs\n",
    "frame_principal = tk.Frame(root)\n",
    "frame_principal.pack(fill=\"both\", expand=True)\n",
    "\n",
    "webcam_label = tk.Label(frame_principal)\n",
    "webcam_label.pack(side=\"left\", fill=\"both\", expand=True)\n",
    "\n",
    "# Frame para controles inferiores\n",
    "frame_inf = tk.Frame(frame_principal)\n",
    "frame_inf.pack(fill=\"x\")\n",
    "frame_inf.columnconfigure([0, 1, 2], weight=1)\n",
    "\n",
    "image_count_label = tk.Label(frame_inf, text=\"Imagens capturadas: 0\")\n",
    "image_count_label.grid(row=0, column=0, columnspan=3, padx=5, pady=5)\n",
    "\n",
    "# Frame para centralizar os sliders\n",
    "frame_sliders = tk.Frame(frame_inf)\n",
    "frame_sliders.grid(row=1, column=0, columnspan=3)\n",
    "\n",
    "# Define os sliders\n",
    "variacao_slider = tk.Scale(frame_sliders, from_=0, to=100, orient=\"horizontal\", resolution=1, label=\"Variação Máxima\")\n",
    "variacao_slider.set(5)  # Valor inicial\n",
    "variacao_slider.grid(row=0, column=0, padx=5, pady=5)\n",
    "\n",
    "intervalo_slider = tk.Scale(frame_sliders, from_=1, to=10, orient=\"horizontal\", resolution=1, label=\"Intervalo(s)\")\n",
    "intervalo_slider.set(3)  # Valor inicial\n",
    "intervalo_slider.grid(row=0, column=1, padx=5, pady=5)\n",
    "\n",
    "# Separador horizontal\n",
    "separator = ttk.Separator(frame_inf, orient=\"horizontal\")\n",
    "separator.grid(row=2, column=0, columnspan=3, pady=5)\n",
    "\n",
    "# Frame para os controles à direita\n",
    "frame_direita = tk.Frame(frame_principal)\n",
    "frame_direita.pack(fill=\"both\", expand=True, side=\"left\")\n",
    "\n",
    "canvas = tk.Canvas(frame_direita)\n",
    "canvas.pack(side=\"left\", fill=\"both\", expand=True)\n",
    "\n",
    "scrollbar = tk.Scrollbar(frame_direita, orient=\"vertical\", command=canvas.yview)\n",
    "scrollbar.pack(side=\"right\", fill=\"y\")\n",
    "\n",
    "canvas.config(yscrollcommand=scrollbar.set)\n",
    "\n",
    "frame_direita_interior = tk.Frame(canvas)\n",
    "canvas.create_window((0, 0), window=frame_direita_interior, anchor=\"nw\")\n",
    "frame_direita_interior.bind(\"<Configure>\", lambda e: canvas.config(scrollregion=canvas.bbox(\"all\")))"
   ]
  },
  {
   "cell_type": "markdown",
   "metadata": {},
   "source": [
    "## 6. Execução da Interface para Uso\n",
    "Este passo irá abrir a interface em uma janela dedicada, pronta para uso."
   ]
  },
  {
   "cell_type": "code",
   "execution_count": 17,
   "metadata": {},
   "outputs": [],
   "source": [
    "# Inicia a interface gráfica\n",
    "adicionar_roi()\n",
    "atualizar_webcam()\n",
    "root.mainloop()\n",
    "\n",
    "# Libera recursos\n",
    "cap.release()\n",
    "cv2.destroyAllWindows()"
   ]
  }
 ],
 "metadata": {
  "kernelspec": {
   "display_name": "base",
   "language": "python",
   "name": "python3"
  },
  "language_info": {
   "codemirror_mode": {
    "name": "ipython",
    "version": 3
   },
   "file_extension": ".py",
   "mimetype": "text/x-python",
   "name": "python",
   "nbconvert_exporter": "python",
   "pygments_lexer": "ipython3",
   "version": "3.10.14"
  }
 },
 "nbformat": 4,
 "nbformat_minor": 2
}
