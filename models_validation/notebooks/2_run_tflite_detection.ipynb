{
 "cells": [
  {
   "cell_type": "markdown",
   "metadata": {},
   "source": [
    "## UTILIZANDO **GRADIO** PARA VALIDAÇÃO DE DETECÇÃO DE OBJETOS"
   ]
  },
  {
   "cell_type": "markdown",
   "metadata": {},
   "source": [
    "- **Gradio** é uma ferramenta em Python que simplifica a criação e compartilhamento de demos ou aplicativos web para modelos de ML, APIs ou funções, sem necessidade de experiência em JavaScript, CSS ou hospedagem web.\n",
    "- Neste _notebook_, abordaremos a criação de uma **interface gráfica** básica utilizando o **Gradio** e como executar um modelo de **detecção de objetos** em conjunto com essa interface."
   ]
  },
  {
   "cell_type": "markdown",
   "metadata": {},
   "source": [
    "#### 🔎 Verificar se está sendo utilizado CPU ou GPU"
   ]
  },
  {
   "cell_type": "code",
   "execution_count": 1,
   "metadata": {},
   "outputs": [
    {
     "data": {
      "text/plain": [
       "[PhysicalDevice(name='/physical_device:CPU:0', device_type='CPU')]"
      ]
     },
     "execution_count": 1,
     "metadata": {},
     "output_type": "execute_result"
    }
   ],
   "source": [
    "import tensorflow as tf\n",
    "tf.config.list_physical_devices()"
   ]
  },
  {
   "cell_type": "markdown",
   "metadata": {},
   "source": [
    "#\n",
    "---"
   ]
  },
  {
   "cell_type": "markdown",
   "metadata": {},
   "source": [
    "### 1º PASSO: IMPORTAR AS BIBLIOTECAS"
   ]
  },
  {
   "cell_type": "code",
   "execution_count": 2,
   "metadata": {},
   "outputs": [
    {
     "name": "stderr",
     "output_type": "stream",
     "text": [
      "c:\\Users\\saothalm\\AppData\\Local\\miniconda3\\envs\\vertex_course\\lib\\site-packages\\tqdm\\auto.py:21: TqdmWarning: IProgress not found. Please update jupyter and ipywidgets. See https://ipywidgets.readthedocs.io/en/stable/user_install.html\n",
      "  from .autonotebook import tqdm as notebook_tqdm\n"
     ]
    }
   ],
   "source": [
    "import os\n",
    "import zipfile\n",
    "\n",
    "import gradio as gr\n",
    "import numpy as np\n",
    "import tensorflow as tf\n",
    "from PIL import Image, ImageDraw, ImageFont"
   ]
  },
  {
   "cell_type": "markdown",
   "metadata": {},
   "source": [
    "# \n",
    "---"
   ]
  },
  {
   "cell_type": "markdown",
   "metadata": {},
   "source": [
    "### 2º PASSO: CRIAR A INTERFACE RESPONSÁVEL POR EXECUTAR O MODELO"
   ]
  },
  {
   "cell_type": "markdown",
   "metadata": {},
   "source": [
    "Vamos empregar **variáveis globais** para simplificar o código, porém essa não é a única forma de implementar a função. \n",
    "_(Sinta-se à vontade para otimizar o código se desejar)_"
   ]
  },
  {
   "cell_type": "code",
   "execution_count": 3,
   "metadata": {},
   "outputs": [],
   "source": [
    "# Diretório onde o modelo está armazenado\n",
    "DATA_PATH = os.path.join(os.pardir, \"data\", \"models\", \"detec4\")\n",
    "\n",
    "# Nome do modelo .tflite a ser utilizado\n",
    "MODEL_FILE = \"t5_battery_detec.tflite\"\n",
    "\n",
    "# Caminho completo do diretório até o arquivo do modelo\n",
    "MODEL_PATH = os.path.join(DATA_PATH, MODEL_FILE)"
   ]
  },
  {
   "cell_type": "markdown",
   "metadata": {},
   "source": [
    "#\n",
    "---"
   ]
  },
  {
   "cell_type": "markdown",
   "metadata": {},
   "source": [
    "### 3º PASSO: EXTRAIR AS CATEGORIAS DO MODELO QUE SERÁ EXECUTADO"
   ]
  },
  {
   "cell_type": "markdown",
   "metadata": {},
   "source": [
    "O código abaixo imprime no _output_ quais categorias existem dentro do modelo carregado na variável global **MODEL_PATH**"
   ]
  },
  {
   "cell_type": "code",
   "execution_count": 4,
   "metadata": {},
   "outputs": [
    {
     "data": {
      "text/plain": [
       "['flex', 'cr2', 'eve']"
      ]
     },
     "metadata": {},
     "output_type": "display_data"
    }
   ],
   "source": [
    "with zipfile.ZipFile(MODEL_PATH, \"r\") as archive:\n",
    "    for file in archive.namelist():\n",
    "        LABELS = archive.read(file).decode(encoding=\"utf-8\").split()\n",
    "        display(LABELS)"
   ]
  },
  {
   "cell_type": "code",
   "execution_count": 5,
   "metadata": {},
   "outputs": [
    {
     "data": {
      "text/plain": [
       "'N° de Classes: 3'"
      ]
     },
     "metadata": {},
     "output_type": "display_data"
    },
    {
     "data": {
      "text/plain": [
       "['flex', 'cr2', 'eve']"
      ]
     },
     "metadata": {},
     "output_type": "display_data"
    }
   ],
   "source": [
    "LABELS = LABELS[0:]\n",
    "display(f\"N° de Classes: {len(LABELS)}\", LABELS)"
   ]
  },
  {
   "cell_type": "markdown",
   "metadata": {},
   "source": [
    "O código abaixo extrai o arquivo **dict.txt** do modelo e o salva no mesmo diretório"
   ]
  },
  {
   "cell_type": "code",
   "execution_count": 6,
   "metadata": {},
   "outputs": [],
   "source": [
    "with zipfile.ZipFile(MODEL_PATH, \"r\") as zip_ref:\n",
    "    zip_ref.extractall(DATA_PATH)"
   ]
  },
  {
   "cell_type": "markdown",
   "metadata": {},
   "source": [
    "#\n",
    "---"
   ]
  },
  {
   "cell_type": "markdown",
   "metadata": {},
   "source": [
    "### 4º PASSO: CRIAR O INTERPRETADOR QUE USARÁ O MODELO E ALOCAR NA MEMÓRIA"
   ]
  },
  {
   "cell_type": "code",
   "execution_count": 7,
   "metadata": {},
   "outputs": [],
   "source": [
    "# Criação do interpretador do modelo\n",
    "interpreter = tf.lite.Interpreter(model_path=MODEL_PATH)\n",
    "\n",
    "# Alocação na memória\n",
    "interpreter.allocate_tensors()"
   ]
  },
  {
   "cell_type": "markdown",
   "metadata": {},
   "source": [
    "#\n",
    "---"
   ]
  },
  {
   "cell_type": "markdown",
   "metadata": {},
   "source": [
    "### 5º PASSO: CRIAR FUNÇÃO DE PREVISÃO COM O INTERPRETADOR DO MODELO"
   ]
  },
  {
   "cell_type": "markdown",
   "metadata": {},
   "source": [
    "Parâmetros que serão utilizados pelo _*predict*_:\n",
    "- Cria uma lista de cores que serão utilizadas para *visualização*, utilizando uma _seed_ para que não altere o tempo todo."
   ]
  },
  {
   "cell_type": "code",
   "execution_count": 8,
   "metadata": {},
   "outputs": [],
   "source": [
    "np.random.seed(42)\n",
    "COLORS = np.random.randint(0, 255, size=(len(LABELS), 3), dtype=np.uint8)"
   ]
  },
  {
   "cell_type": "code",
   "execution_count": 9,
   "metadata": {},
   "outputs": [
    {
     "data": {
      "text/plain": [
       "{'flex': array([102, 220, 225], dtype=uint8),\n",
       " 'cr2': array([ 95, 179,  61], dtype=uint8),\n",
       " 'eve': array([234, 203,  92], dtype=uint8)}"
      ]
     },
     "execution_count": 9,
     "metadata": {},
     "output_type": "execute_result"
    }
   ],
   "source": [
    "dict(zip(LABELS, COLORS))"
   ]
  },
  {
   "cell_type": "markdown",
   "metadata": {},
   "source": [
    "- Carrega o modelo .tflite:"
   ]
  },
  {
   "cell_type": "code",
   "execution_count": 10,
   "metadata": {},
   "outputs": [],
   "source": [
    "interpreter = tf.lite.Interpreter(model_path=MODEL_PATH)\n",
    "interpreter.allocate_tensors()"
   ]
  },
  {
   "cell_type": "markdown",
   "metadata": {},
   "source": [
    "- Esta é a função que irá pré-processar a imagem de entrada para alimentar o modelo TFLite:"
   ]
  },
  {
   "cell_type": "code",
   "execution_count": 11,
   "metadata": {},
   "outputs": [],
   "source": [
    "def preprocess_image(interpreter, image):\n",
    "    input_details = interpreter.get_input_details()[0]\n",
    "    model_height, model_width = input_details[\"shape\"][1:3]\n",
    "\n",
    "    # Redimensionar a imagem\n",
    "    image_resized = tf.image.resize(image, (model_height, model_width))\n",
    "\n",
    "    # Normalizar a imagem\n",
    "    img_array = tf.cast(image_resized, tf.float32) / 255.0\n",
    "\n",
    "    # Verificar se é necessário escalar e quantizar\n",
    "    if input_details[\"dtype\"] == tf.uint8:\n",
    "        input_scale, input_zero_point = input_details[\"quantization\"]\n",
    "        img_array = img_array / input_scale + input_zero_point\n",
    "        img_array = tf.cast(img_array, input_details[\"dtype\"])\n",
    "\n",
    "    # Adicionar dimensão de lote, se necessário\n",
    "    img_array = tf.expand_dims(img_array, axis=0)\n",
    "\n",
    "    return img_array"
   ]
  },
  {
   "cell_type": "markdown",
   "metadata": {},
   "source": [
    "- Esta é a função retornará uma lista de resultados de detecção. Cada resultado em um dicionário com infos sobre o objeto."
   ]
  },
  {
   "cell_type": "code",
   "execution_count": 12,
   "metadata": {},
   "outputs": [],
   "source": [
    "def detect_objects(interpreter, image_array, threshold):\n",
    "\n",
    "    interpreter.set_tensor(interpreter.get_input_details()[0][\"index\"], image_array)\n",
    "    interpreter.invoke()\n",
    "\n",
    "    boxes = np.squeeze(\n",
    "        interpreter.get_tensor(interpreter.get_output_details()[0][\"index\"])\n",
    "    )\n",
    "    classes = np.squeeze(\n",
    "        interpreter.get_tensor(interpreter.get_output_details()[1][\"index\"])\n",
    "    )\n",
    "    scores = np.squeeze(\n",
    "        interpreter.get_tensor(interpreter.get_output_details()[2][\"index\"])\n",
    "    )\n",
    "    count = int(\n",
    "        np.squeeze(interpreter.get_tensor(interpreter.get_output_details()[3][\"index\"]))\n",
    "    )\n",
    "    results = []\n",
    "    for i in range(count):\n",
    "        if scores[i] >= threshold:\n",
    "            result = {\n",
    "                \"bounding_box\": boxes[i],\n",
    "                \"class_id\": classes[i],\n",
    "                \"score\": scores[i],\n",
    "            }\n",
    "            results.append(result)\n",
    "    return results"
   ]
  },
  {
   "cell_type": "markdown",
   "metadata": {},
   "source": [
    "- Esta é a função final de detecção de objetos em uma imagem de entrada, que desenha os resultados da detecção."
   ]
  },
  {
   "cell_type": "code",
   "execution_count": 13,
   "metadata": {},
   "outputs": [],
   "source": [
    "def predict(image, threshold):\n",
    "    global LABELS\n",
    "    global interpreter\n",
    "\n",
    "    new_image = image.copy()\n",
    "\n",
    "    # Load the input image and preprocess it\n",
    "    preprocessed_image = preprocess_image(interpreter, new_image)\n",
    "\n",
    "    # Run object detection on the input image\n",
    "    results = detect_objects(interpreter, preprocessed_image, threshold=threshold)\n",
    "    display(results)\n",
    "\n",
    "    # Create a Pillow ImageDraw object\n",
    "    draw = ImageDraw.Draw(new_image)\n",
    "\n",
    "    for obj in results:\n",
    "        # Convert the object bounding box from relative coordinates to absolute\n",
    "        # coordinates based on the original image resolution\n",
    "        ymin, xmin, ymax, xmax = obj[\"bounding_box\"]\n",
    "\n",
    "        xmin = int(xmin * new_image.width)\n",
    "        xmax = int(xmax * new_image.width)\n",
    "        ymin = int(ymin * new_image.height)\n",
    "        ymax = int(ymax * new_image.height)\n",
    "\n",
    "        # Find the class index of the current object\n",
    "        class_id = int(obj[\"class_id\"])\n",
    "\n",
    "        # Draw the bounding box and label on the image\n",
    "        color = [int(c) for c in COLORS[class_id]]\n",
    "        draw.rectangle([(xmin, ymin), (xmax, ymax)], outline=tuple(color), width=2)\n",
    "\n",
    "        # Make adjustments to make the label visible for all objects\n",
    "        # font = ImageFont.load_default()\n",
    "        font = ImageFont.truetype(\"arial.ttf\", 40)\n",
    "        label = f\"{LABELS[class_id]} {round(obj['score'] * 100, 2)}%\"\n",
    "\n",
    "        text_position = (xmin, ymin)\n",
    "\n",
    "        text_left, text_top, text_right, text_bottom = draw.textbbox(\n",
    "            text_position, label, font=font\n",
    "        )\n",
    "        draw.rectangle(\n",
    "            (text_left - 5, text_top - 5, text_right + 5, text_bottom + 5),\n",
    "            fill=tuple(color),\n",
    "        )\n",
    "\n",
    "        draw.text(text_position, label, fill=\"black\", font=font)\n",
    "\n",
    "    return new_image"
   ]
  },
  {
   "cell_type": "markdown",
   "metadata": {},
   "source": [
    "# \n",
    "---"
   ]
  },
  {
   "cell_type": "markdown",
   "metadata": {},
   "source": [
    "### 6º PASSO: CRIAR A INTERFACE COM O GRADIO"
   ]
  },
  {
   "cell_type": "markdown",
   "metadata": {},
   "source": [
    "Criação da interface que utiliza da função **_predict(image)_**"
   ]
  },
  {
   "cell_type": "markdown",
   "metadata": {},
   "source": [
    "Esta interface possui um configurador de _*threshold*_."
   ]
  },
  {
   "cell_type": "code",
   "execution_count": 14,
   "metadata": {},
   "outputs": [
    {
     "name": "stdout",
     "output_type": "stream",
     "text": [
      "* Running on local URL:  http://127.0.0.1:7862\n",
      "\n",
      "To create a public link, set `share=True` in `launch()`.\n"
     ]
    },
    {
     "data": {
      "text/html": [
       "<div><iframe src=\"http://127.0.0.1:7862/\" width=\"100%\" height=\"500\" allow=\"autoplay; camera; microphone; clipboard-read; clipboard-write;\" frameborder=\"0\" allowfullscreen></iframe></div>"
      ],
      "text/plain": [
       "<IPython.core.display.HTML object>"
      ]
     },
     "metadata": {},
     "output_type": "display_data"
    },
    {
     "data": {
      "text/plain": []
     },
     "execution_count": 14,
     "metadata": {},
     "output_type": "execute_result"
    },
    {
     "data": {
      "text/plain": [
       "[]"
      ]
     },
     "metadata": {},
     "output_type": "display_data"
    },
    {
     "data": {
      "text/plain": [
       "[]"
      ]
     },
     "metadata": {},
     "output_type": "display_data"
    },
    {
     "data": {
      "text/plain": [
       "[{'bounding_box': array([0.36187315, 0.22808257, 0.5147912 , 0.42725036], dtype=float32),\n",
       "  'class_id': np.float32(2.0),\n",
       "  'score': np.float32(0.81640625)}]"
      ]
     },
     "metadata": {},
     "output_type": "display_data"
    }
   ],
   "source": [
    "gr.Interface(\n",
    "    fn=predict,\n",
    "    inputs=[\n",
    "        gr.Image(type=\"pil\"),\n",
    "        gr.Slider(\n",
    "            0.1,\n",
    "            1.0,\n",
    "            step=0.05,\n",
    "            value=0.5,\n",
    "            label=\"Threshold\",\n",
    "            info=\"Choose a confident percentage value\",\n",
    "        ),\n",
    "    ],\n",
    "    outputs=[gr.Image()],\n",
    ").launch()"
   ]
  },
  {
   "cell_type": "markdown",
   "metadata": {},
   "source": [
    "####\n",
    "---"
   ]
  },
  {
   "cell_type": "markdown",
   "metadata": {},
   "source": [
    "#### 💡VALIDE O MODELO ATRAVÉS DA INTERFACE\n",
    "- É possível testar o modelo pelo próprio _output_ da célula do notebook\n",
    "- Outra opção é clicar no link gerado e testá-lo em seu _browser_ de preferência"
   ]
  }
 ],
 "metadata": {
  "kernelspec": {
   "display_name": "vertex_course",
   "language": "python",
   "name": "python3"
  },
  "language_info": {
   "codemirror_mode": {
    "name": "ipython",
    "version": 3
   },
   "file_extension": ".py",
   "mimetype": "text/x-python",
   "name": "python",
   "nbconvert_exporter": "python",
   "pygments_lexer": "ipython3",
   "version": "3.10.15"
  }
 },
 "nbformat": 4,
 "nbformat_minor": 2
}
