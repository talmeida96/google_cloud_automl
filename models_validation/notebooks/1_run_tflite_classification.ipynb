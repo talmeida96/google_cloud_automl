{
 "cells": [
  {
   "cell_type": "markdown",
   "metadata": {},
   "source": [
    "## UTILIZANDO **GRADIO** PARA VISUALIZAÇÃO DAS CLASSIFICAÇÕES (SINGLE OU MULTI LABEL)"
   ]
  },
  {
   "cell_type": "markdown",
   "metadata": {},
   "source": [
    "- **Gradio** é uma ferramenta em Python que simplifica a criação e compartilhamento de demos ou aplicativos web para modelos de ML, APIs ou funções, sem necessidade de experiência em JavaScript, CSS ou hospedagem web.\n",
    "- Neste _notebook_, abordaremos a criação de uma **interface gráfica** básica utilizando o **Gradio** e como executar um modelo de **classificação de objetos** em conjunto com essa interface."
   ]
  },
  {
   "cell_type": "markdown",
   "metadata": {},
   "source": [
    "#### 🔎 Verificar se está sendo utilizado CPU ou GPU"
   ]
  },
  {
   "cell_type": "code",
   "execution_count": null,
   "metadata": {},
   "outputs": [],
   "source": [
    "import tensorflow as tf\n",
    "tf.config.list_physical_devices()"
   ]
  },
  {
   "cell_type": "markdown",
   "metadata": {},
   "source": [
    "#\n",
    "---"
   ]
  },
  {
   "cell_type": "markdown",
   "metadata": {},
   "source": [
    "### 1º PASSO: IMPORTAR AS BIBLIOTECAS"
   ]
  },
  {
   "cell_type": "code",
   "execution_count": null,
   "metadata": {},
   "outputs": [],
   "source": [
    "import os\n",
    "import zipfile\n",
    "\n",
    "import gradio as gr\n",
    "import numpy as np\n",
    "import tensorflow as tf"
   ]
  },
  {
   "cell_type": "markdown",
   "metadata": {},
   "source": [
    "# \n",
    "---"
   ]
  },
  {
   "cell_type": "markdown",
   "metadata": {},
   "source": [
    "### 2º PASSO: CRIAR A INTERFACE RESPONSÁVEL POR EXECUTAR O MODELO"
   ]
  },
  {
   "cell_type": "markdown",
   "metadata": {},
   "source": [
    "Vamos empregar **variáveis globais** para simplificar o código, porém essa não é a única forma de implementar a função. \n",
    "_(Sinta-se à vontade para otimizar o código se desejar)_"
   ]
  },
  {
   "cell_type": "code",
   "execution_count": null,
   "metadata": {},
   "outputs": [],
   "source": [
    "# Diretório onde o modelo está armazenado\n",
    "DATA_PATH = os.path.join(os.pardir, \"data\", \"models\", \"single\")\n",
    "\n",
    "# Nome do modelo .tflite a ser utilizado\n",
    "MODEL_FILE = \"ex_raspberry_identifier.tflite\"\n",
    "\n",
    "# Caminho completo do diretório até o arquivo do modelo\n",
    "MODEL_PATH = os.path.join(DATA_PATH, MODEL_FILE)"
   ]
  },
  {
   "cell_type": "markdown",
   "metadata": {},
   "source": [
    "#\n",
    "---"
   ]
  },
  {
   "cell_type": "markdown",
   "metadata": {},
   "source": [
    "### 3º PASSO: EXTRAIR AS CATEGORIAS DO MODELO QUE SERÁ EXECUTADO"
   ]
  },
  {
   "cell_type": "markdown",
   "metadata": {},
   "source": [
    "O código abaixo imprime no _output_ quais categorias existem dentro do modelo carregado na variável global **MODEL_PATH**"
   ]
  },
  {
   "cell_type": "code",
   "execution_count": null,
   "metadata": {},
   "outputs": [],
   "source": [
    "with zipfile.ZipFile(MODEL_PATH, \"r\") as archive:\n",
    "    for file in archive.namelist():\n",
    "        LABELS = archive.read(file).decode(encoding=\"utf-8\").split()\n",
    "        display(LABELS)"
   ]
  },
  {
   "cell_type": "markdown",
   "metadata": {},
   "source": [
    "O código abaixo extrai o arquivo **dict.txt** do modelo e o salva no mesmo diretório"
   ]
  },
  {
   "cell_type": "code",
   "execution_count": null,
   "metadata": {},
   "outputs": [],
   "source": [
    "with zipfile.ZipFile(MODEL_PATH, \"r\") as zip_ref:\n",
    "    zip_ref.extractall(DATA_PATH)"
   ]
  },
  {
   "cell_type": "markdown",
   "metadata": {},
   "source": [
    "#\n",
    "---"
   ]
  },
  {
   "cell_type": "markdown",
   "metadata": {},
   "source": [
    "### 4º PASSO: CRIAR O INTERPRETADOR QUE USARÁ O MODELO E ALOCAR NA MEMÓRIA"
   ]
  },
  {
   "cell_type": "code",
   "execution_count": null,
   "metadata": {},
   "outputs": [],
   "source": [
    "# Criação do interpretador do modelo\n",
    "interpreter = tf.lite.Interpreter(model_path=MODEL_PATH)\n",
    "\n",
    "# Alocação na memória\n",
    "interpreter.allocate_tensors()"
   ]
  },
  {
   "cell_type": "markdown",
   "metadata": {},
   "source": [
    "#\n",
    "---"
   ]
  },
  {
   "cell_type": "markdown",
   "metadata": {},
   "source": [
    "### 5º PASSO: CRIAR FUNÇÃO DE PREVISÃO COM O INTERPRETADOR DO MODELO"
   ]
  },
  {
   "cell_type": "markdown",
   "metadata": {},
   "source": [
    "Esta é a função que irá rodar o modelo usando do interpretador alocado e das variáveis globais"
   ]
  },
  {
   "cell_type": "code",
   "execution_count": null,
   "metadata": {},
   "outputs": [],
   "source": [
    "def predict(image):\n",
    "    global LABELS\n",
    "    global interpreter\n",
    "\n",
    "    # Recolher detalhes sobre os parâmetros de entrada e saída do modelo.\n",
    "    input_details = interpreter.get_input_details()[0]\n",
    "    output_details = interpreter.get_output_details()[0]\n",
    "\n",
    "    # Reajustar para o tamanho 224x224\n",
    "    image = image.resize((224, 224))\n",
    "\n",
    "    # Imagem será normalizada para escala entre 0-1\n",
    "    image_arr = np.array(image, dtype=np.float32) / 255.0\n",
    "\n",
    "    # Quantizar o float32 para uint8\n",
    "    if input_details[\"dtype\"] == np.uint8:\n",
    "        input_scale, input_zero_point = input_details[\"quantization\"]\n",
    "        image_arr = image_arr / input_scale + input_zero_point\n",
    "\n",
    "    # Expandir a array em 1 dimensão\n",
    "    image_arr = np.expand_dims(image_arr, axis=0).astype(input_details[\"dtype\"])\n",
    "\n",
    "    # Jogar para memoria do modelo\n",
    "    interpreter.set_tensor(input_details[\"index\"], image_arr)\n",
    "\n",
    "    # Fazer inferencia da image\n",
    "    interpreter.invoke()\n",
    "\n",
    "    # Jogar em uma variavel o que tem na saida do modelo\n",
    "    output = interpreter.get_tensor(output_details[\"index\"])[0]\n",
    "\n",
    "    display(output)\n",
    "\n",
    "    # Retorna o valor de uint8 para flot32\n",
    "    if output_details[\"dtype\"] == np.uint8:\n",
    "        output_scale, output_zero_point = output_details[\"quantization\"]\n",
    "        output = output_scale * (output.astype(np.float32) - output_zero_point)\n",
    "\n",
    "    confidences = {LABELS[i]: float(confidence) for i, confidence in enumerate(output)}\n",
    "\n",
    "    print(confidences, output.argmax())\n",
    "\n",
    "    return confidences"
   ]
  },
  {
   "cell_type": "markdown",
   "metadata": {},
   "source": [
    "#### Exemplo de Parâmetros de ENTRADA e SAÍDA do modelo"
   ]
  },
  {
   "cell_type": "code",
   "execution_count": null,
   "metadata": {},
   "outputs": [],
   "source": [
    "input_details = interpreter.get_input_details()[0]\n",
    "display(input_details)"
   ]
  },
  {
   "cell_type": "code",
   "execution_count": null,
   "metadata": {},
   "outputs": [],
   "source": [
    "output_details = interpreter.get_output_details()[0]\n",
    "display(output_details)"
   ]
  },
  {
   "cell_type": "markdown",
   "metadata": {},
   "source": [
    "# \n",
    "---"
   ]
  },
  {
   "cell_type": "markdown",
   "metadata": {},
   "source": [
    "### 6º PASSO: CRIAR A INTERFACE COM O GRADIO"
   ]
  },
  {
   "cell_type": "markdown",
   "metadata": {},
   "source": [
    "Criação da interface que utiliza da função **_predict(image)_**"
   ]
  },
  {
   "cell_type": "code",
   "execution_count": null,
   "metadata": {},
   "outputs": [],
   "source": [
    "gr.Interface(\n",
    "    fn=predict,\n",
    "    inputs=[gr.Image(type=\"pil\")],\n",
    "    outputs=[gr.Label()],\n",
    ").launch()"
   ]
  },
  {
   "cell_type": "markdown",
   "metadata": {},
   "source": [
    "####\n",
    "---"
   ]
  },
  {
   "cell_type": "markdown",
   "metadata": {},
   "source": [
    "#### 💡VALIDE O MODELO ATRAVÉS DA INTERFACE\n",
    "- É possível testar o modelo pelo próprio _output_ da célula do notebook\n",
    "- Outra opção é clicar no link gerado e testá-lo em seu _browser_ de preferência"
   ]
  }
 ],
 "metadata": {
  "kernelspec": {
   "display_name": "vertex_course",
   "language": "python",
   "name": "python3"
  },
  "language_info": {
   "codemirror_mode": {
    "name": "ipython",
    "version": 3
   },
   "file_extension": ".py",
   "mimetype": "text/x-python",
   "name": "python",
   "nbconvert_exporter": "python",
   "pygments_lexer": "ipython3",
   "version": "3.11.9"
  }
 },
 "nbformat": 4,
 "nbformat_minor": 2
}
