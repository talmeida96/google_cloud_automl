{
 "cells": [
  {
   "cell_type": "markdown",
   "metadata": {},
   "source": [
    "## UTILIZANDO **GRADIO** PARA VISUALIZAÇÃO DAS CLASSIFICAÇÕES (SINGLE OU MULTI LABEL)"
   ]
  },
  {
   "cell_type": "markdown",
   "metadata": {},
   "source": [
    "- **Gradio** é uma ferramenta em Python que simplifica a criação e compartilhamento de demos ou aplicativos web para modelos de ML, APIs ou funções, sem necessidade de experiência em JavaScript, CSS ou hospedagem web.\n",
    "- Neste _notebook_, abordaremos a criação de uma **interface gráfica** básica utilizando o **Gradio** e como executar um modelo de **classificação de objetos** em conjunto com essa interface."
   ]
  },
  {
   "cell_type": "markdown",
   "metadata": {},
   "source": [
    "#### 🔎 Verificar se está sendo utilizado CPU ou GPU"
   ]
  },
  {
   "cell_type": "code",
   "execution_count": 1,
   "metadata": {},
   "outputs": [
    {
     "data": {
      "text/plain": [
       "[PhysicalDevice(name='/physical_device:CPU:0', device_type='CPU')]"
      ]
     },
     "execution_count": 1,
     "metadata": {},
     "output_type": "execute_result"
    }
   ],
   "source": [
    "import tensorflow as tf\n",
    "tf.config.list_physical_devices()"
   ]
  },
  {
   "cell_type": "markdown",
   "metadata": {},
   "source": [
    "#\n",
    "---"
   ]
  },
  {
   "cell_type": "markdown",
   "metadata": {},
   "source": [
    "### 1º PASSO: IMPORTAR AS BIBLIOTECAS"
   ]
  },
  {
   "cell_type": "code",
   "execution_count": 2,
   "metadata": {},
   "outputs": [
    {
     "name": "stderr",
     "output_type": "stream",
     "text": [
      "c:\\Users\\saothalm\\AppData\\Local\\miniconda3\\envs\\vertex_course\\lib\\site-packages\\tqdm\\auto.py:21: TqdmWarning: IProgress not found. Please update jupyter and ipywidgets. See https://ipywidgets.readthedocs.io/en/stable/user_install.html\n",
      "  from .autonotebook import tqdm as notebook_tqdm\n"
     ]
    }
   ],
   "source": [
    "import os\n",
    "import zipfile\n",
    "\n",
    "import gradio as gr\n",
    "import numpy as np\n",
    "import tensorflow as tf"
   ]
  },
  {
   "cell_type": "markdown",
   "metadata": {},
   "source": [
    "# \n",
    "---"
   ]
  },
  {
   "cell_type": "markdown",
   "metadata": {},
   "source": [
    "### 2º PASSO: CRIAR A INTERFACE RESPONSÁVEL POR EXECUTAR O MODELO"
   ]
  },
  {
   "cell_type": "markdown",
   "metadata": {},
   "source": [
    "Vamos empregar **variáveis globais** para simplificar o código, porém essa não é a única forma de implementar a função. \n",
    "_(Sinta-se à vontade para otimizar o código se desejar)_"
   ]
  },
  {
   "cell_type": "code",
   "execution_count": 11,
   "metadata": {},
   "outputs": [],
   "source": [
    "# Diretório onde o modelo está armazenado\n",
    "DATA_PATH = os.path.join(os.pardir, \"data\", \"models\", \"multi\")\n",
    "\n",
    "# Nome do modelo .tflite a ser utilizado\n",
    "MODEL_FILE = \"t0_raspberry_id_multi.tflite\"\n",
    "\n",
    "# Caminho completo do diretório até o arquivo do modelo\n",
    "MODEL_PATH = os.path.join(DATA_PATH, MODEL_FILE)"
   ]
  },
  {
   "cell_type": "markdown",
   "metadata": {},
   "source": [
    "#\n",
    "---"
   ]
  },
  {
   "cell_type": "markdown",
   "metadata": {},
   "source": [
    "### 3º PASSO: EXTRAIR AS CATEGORIAS DO MODELO QUE SERÁ EXECUTADO"
   ]
  },
  {
   "cell_type": "markdown",
   "metadata": {},
   "source": [
    "O código abaixo imprime no _output_ quais categorias existem dentro do modelo carregado na variável global **MODEL_PATH**"
   ]
  },
  {
   "cell_type": "code",
   "execution_count": 12,
   "metadata": {},
   "outputs": [
    {
     "data": {
      "text/plain": [
       "['model_b_2018_2_heatsinks',\n",
       " 'model_b_plus_2017_3heatsinks',\n",
       " 'model_b_plus_2017_noheatsink']"
      ]
     },
     "metadata": {},
     "output_type": "display_data"
    }
   ],
   "source": [
    "with zipfile.ZipFile(MODEL_PATH, \"r\") as archive:\n",
    "    for file in archive.namelist():\n",
    "        LABELS = archive.read(file).decode(encoding=\"utf-8\").split()\n",
    "        display(LABELS)"
   ]
  },
  {
   "cell_type": "markdown",
   "metadata": {},
   "source": [
    "O código abaixo extrai o arquivo **dict.txt** do modelo e o salva no mesmo diretório"
   ]
  },
  {
   "cell_type": "code",
   "execution_count": 13,
   "metadata": {},
   "outputs": [],
   "source": [
    "with zipfile.ZipFile(MODEL_PATH, \"r\") as zip_ref:\n",
    "    zip_ref.extractall(DATA_PATH)"
   ]
  },
  {
   "cell_type": "markdown",
   "metadata": {},
   "source": [
    "#\n",
    "---"
   ]
  },
  {
   "cell_type": "markdown",
   "metadata": {},
   "source": [
    "### 4º PASSO: CRIAR O INTERPRETADOR QUE USARÁ O MODELO E ALOCAR NA MEMÓRIA"
   ]
  },
  {
   "cell_type": "code",
   "execution_count": 14,
   "metadata": {},
   "outputs": [],
   "source": [
    "# Criação do interpretador do modelo\n",
    "interpreter = tf.lite.Interpreter(model_path=MODEL_PATH)\n",
    "\n",
    "# Alocação na memória\n",
    "interpreter.allocate_tensors()"
   ]
  },
  {
   "cell_type": "markdown",
   "metadata": {},
   "source": [
    "#\n",
    "---"
   ]
  },
  {
   "cell_type": "markdown",
   "metadata": {},
   "source": [
    "### 5º PASSO: CRIAR FUNÇÃO DE PREVISÃO COM O INTERPRETADOR DO MODELO"
   ]
  },
  {
   "cell_type": "markdown",
   "metadata": {},
   "source": [
    "Esta é a função que irá rodar o modelo usando do interpretador alocado e das variáveis globais"
   ]
  },
  {
   "cell_type": "code",
   "execution_count": 15,
   "metadata": {},
   "outputs": [],
   "source": [
    "def predict(image):\n",
    "    global LABELS\n",
    "    global interpreter\n",
    "\n",
    "    # Recolher detalhes sobre os parâmetros de entrada e saída do modelo.\n",
    "    input_details = interpreter.get_input_details()[0]\n",
    "    output_details = interpreter.get_output_details()[0]\n",
    "\n",
    "    # Reajustar para o tamanho 224x224\n",
    "    image = image.resize((224, 224))\n",
    "\n",
    "    # Imagem será normalizada para escala entre 0-1\n",
    "    image_arr = np.array(image, dtype=np.float32) / 255.0\n",
    "\n",
    "    # Quantizar o float32 para uint8\n",
    "    if input_details[\"dtype\"] == np.uint8:\n",
    "        input_scale, input_zero_point = input_details[\"quantization\"]\n",
    "        image_arr = image_arr / input_scale + input_zero_point\n",
    "\n",
    "    # Expandir a array em 1 dimensão\n",
    "    image_arr = np.expand_dims(image_arr, axis=0).astype(input_details[\"dtype\"])\n",
    "\n",
    "    # Jogar para memoria do modelo\n",
    "    interpreter.set_tensor(input_details[\"index\"], image_arr)\n",
    "\n",
    "    # Fazer inferencia da image\n",
    "    interpreter.invoke()\n",
    "\n",
    "    # Jogar em uma variavel o que tem na saida do modelo\n",
    "    output = interpreter.get_tensor(output_details[\"index\"])[0]\n",
    "\n",
    "    display(output)\n",
    "\n",
    "    # Retorna o valor de uint8 para flot32\n",
    "    if output_details[\"dtype\"] == np.uint8:\n",
    "        output_scale, output_zero_point = output_details[\"quantization\"]\n",
    "        output = output_scale * (output.astype(np.float32) - output_zero_point)\n",
    "\n",
    "    confidences = {LABELS[i]: float(confidence) for i, confidence in enumerate(output)}\n",
    "\n",
    "    print(confidences, output.argmax())\n",
    "\n",
    "    return confidences"
   ]
  },
  {
   "cell_type": "markdown",
   "metadata": {},
   "source": [
    "#### Exemplo de Parâmetros de ENTRADA e SAÍDA do modelo"
   ]
  },
  {
   "cell_type": "code",
   "execution_count": 16,
   "metadata": {},
   "outputs": [
    {
     "data": {
      "text/plain": [
       "{'name': 'image',\n",
       " 'index': 0,\n",
       " 'shape': array([  1, 224, 224,   3], dtype=int32),\n",
       " 'shape_signature': array([  1, 224, 224,   3], dtype=int32),\n",
       " 'dtype': numpy.uint8,\n",
       " 'quantization': (0.007874015718698502, 128),\n",
       " 'quantization_parameters': {'scales': array([0.00787402], dtype=float32),\n",
       "  'zero_points': array([128], dtype=int32),\n",
       "  'quantized_dimension': 0},\n",
       " 'sparsity_parameters': {}}"
      ]
     },
     "metadata": {},
     "output_type": "display_data"
    }
   ],
   "source": [
    "input_details = interpreter.get_input_details()[0]\n",
    "display(input_details)"
   ]
  },
  {
   "cell_type": "code",
   "execution_count": 17,
   "metadata": {},
   "outputs": [
    {
     "data": {
      "text/plain": [
       "{'name': 'scores',\n",
       " 'index': 172,\n",
       " 'shape': array([1, 3], dtype=int32),\n",
       " 'shape_signature': array([1, 3], dtype=int32),\n",
       " 'dtype': numpy.uint8,\n",
       " 'quantization': (0.00390625, 0),\n",
       " 'quantization_parameters': {'scales': array([0.00390625], dtype=float32),\n",
       "  'zero_points': array([0], dtype=int32),\n",
       "  'quantized_dimension': 0},\n",
       " 'sparsity_parameters': {}}"
      ]
     },
     "metadata": {},
     "output_type": "display_data"
    }
   ],
   "source": [
    "output_details = interpreter.get_output_details()[0]\n",
    "display(output_details)"
   ]
  },
  {
   "cell_type": "markdown",
   "metadata": {},
   "source": [
    "# \n",
    "---"
   ]
  },
  {
   "cell_type": "markdown",
   "metadata": {},
   "source": [
    "### 6º PASSO: CRIAR A INTERFACE COM O GRADIO"
   ]
  },
  {
   "cell_type": "markdown",
   "metadata": {},
   "source": [
    "Criação da interface que utiliza da função **_predict(image)_**"
   ]
  },
  {
   "cell_type": "code",
   "execution_count": 18,
   "metadata": {},
   "outputs": [
    {
     "name": "stdout",
     "output_type": "stream",
     "text": [
      "* Running on local URL:  http://127.0.0.1:7861\n",
      "\n",
      "To create a public link, set `share=True` in `launch()`.\n"
     ]
    },
    {
     "data": {
      "text/html": [
       "<div><iframe src=\"http://127.0.0.1:7861/\" width=\"100%\" height=\"500\" allow=\"autoplay; camera; microphone; clipboard-read; clipboard-write;\" frameborder=\"0\" allowfullscreen></iframe></div>"
      ],
      "text/plain": [
       "<IPython.core.display.HTML object>"
      ]
     },
     "metadata": {},
     "output_type": "display_data"
    },
    {
     "data": {
      "text/plain": []
     },
     "execution_count": 18,
     "metadata": {},
     "output_type": "execute_result"
    },
    {
     "data": {
      "text/plain": [
       "array([111, 105,  51], dtype=uint8)"
      ]
     },
     "metadata": {},
     "output_type": "display_data"
    },
    {
     "name": "stdout",
     "output_type": "stream",
     "text": [
      "{'model_b_2018_2_heatsinks': 0.43359375, 'model_b_plus_2017_3heatsinks': 0.41015625, 'model_b_plus_2017_noheatsink': 0.19921875} 0\n"
     ]
    },
    {
     "data": {
      "text/plain": [
       "array([ 97, 100,  84], dtype=uint8)"
      ]
     },
     "metadata": {},
     "output_type": "display_data"
    },
    {
     "name": "stdout",
     "output_type": "stream",
     "text": [
      "{'model_b_2018_2_heatsinks': 0.37890625, 'model_b_plus_2017_3heatsinks': 0.390625, 'model_b_plus_2017_noheatsink': 0.328125} 1\n"
     ]
    },
    {
     "data": {
      "text/plain": [
       "array([108, 105,  87], dtype=uint8)"
      ]
     },
     "metadata": {},
     "output_type": "display_data"
    },
    {
     "name": "stdout",
     "output_type": "stream",
     "text": [
      "{'model_b_2018_2_heatsinks': 0.421875, 'model_b_plus_2017_3heatsinks': 0.41015625, 'model_b_plus_2017_noheatsink': 0.33984375} 0\n"
     ]
    },
    {
     "data": {
      "text/plain": [
       "array([ 77, 158,  65], dtype=uint8)"
      ]
     },
     "metadata": {},
     "output_type": "display_data"
    },
    {
     "name": "stdout",
     "output_type": "stream",
     "text": [
      "{'model_b_2018_2_heatsinks': 0.30078125, 'model_b_plus_2017_3heatsinks': 0.6171875, 'model_b_plus_2017_noheatsink': 0.25390625} 1\n"
     ]
    }
   ],
   "source": [
    "gr.Interface(\n",
    "    fn=predict,\n",
    "    inputs=[gr.Image(type=\"pil\")],\n",
    "    outputs=[gr.Label()],\n",
    ").launch()"
   ]
  },
  {
   "cell_type": "markdown",
   "metadata": {},
   "source": [
    "####\n",
    "---"
   ]
  },
  {
   "cell_type": "markdown",
   "metadata": {},
   "source": [
    "#### 💡VALIDE O MODELO ATRAVÉS DA INTERFACE\n",
    "- É possível testar o modelo pelo próprio _output_ da célula do notebook\n",
    "- Outra opção é clicar no link gerado e testá-lo em seu _browser_ de preferência"
   ]
  }
 ],
 "metadata": {
  "kernelspec": {
   "display_name": "vertex_course",
   "language": "python",
   "name": "python3"
  },
  "language_info": {
   "codemirror_mode": {
    "name": "ipython",
    "version": 3
   },
   "file_extension": ".py",
   "mimetype": "text/x-python",
   "name": "python",
   "nbconvert_exporter": "python",
   "pygments_lexer": "ipython3",
   "version": "3.10.15"
  }
 },
 "nbformat": 4,
 "nbformat_minor": 2
}
